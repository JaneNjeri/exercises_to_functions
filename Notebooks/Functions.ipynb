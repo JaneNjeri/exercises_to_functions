{
 "cells": [
  {
   "cell_type": "markdown",
   "metadata": {},
   "source": [
    "## **Conversion of exercises to functions**"
   ]
  },
  {
   "cell_type": "markdown",
   "metadata": {},
   "source": [
    "**Calculate the % GC and % AT content in the trna sequence**"
   ]
  },
  {
   "cell_type": "code",
   "execution_count": 1,
   "metadata": {},
   "outputs": [],
   "source": [
    "def percenAT_GC(seq:str) -> tuple:    \n",
    "    \"\"\" Function calculates percentage AT and GC content, given a DNA sequence. \"\"\"    \n",
    "    A_count=seq.count('A')\n",
    "    C_count=seq.count('C')\n",
    "    G_count=seq.count('G')\n",
    "    T_count=seq.count('T')\n",
    "    perc_GC = (G_count + C_count)/len(dna)*100\n",
    "    perc_AT = (A_count + T_count)/len(dna)*100\n",
    "    \n",
    "    return perc_GC, perc_AT"
   ]
  },
  {
   "cell_type": "markdown",
   "metadata": {},
   "source": [
    "1. **Given the following amino acid sequence (MNKMDLVADVAEKTDLSKAKATEVIDAVFA), find the first, last and the 5th     amino acids in the sequence.**\n",
    "2. **The above amino acid is a bacterial restriction enzyme that recognizes \"TCCGGA\". Find the first restriction site in the following sequence: AAAAATCCCGAGGCGGCTATATAGGGCTCCGGAGGCGTAATATAAAA**"
   ]
  },
  {
   "cell_type": "code",
   "execution_count": 2,
   "metadata": {},
   "outputs": [],
   "source": [
    "def search_amino (seq:str):\n",
    "    \"\"\" The function finds the first, last and fifth amino acids, given an amino acid sequnce. \"\"\"\n",
    "    for amino in seq:\n",
    "        print(seq[0])\n",
    "        print(seq[-1])\n",
    "        print(seq[4])\n",
    "        break\n",
    "    return\n",
    "\n",
    "def search_restr_site (seq:str):\n",
    "    \"\"\" Function finds specific restriction sites based on index values in a DNA sequence. \"\"\"\n",
    "    print('The restriction site is at index %s' % seq.find('site'))\n",
    "    return"
   ]
  },
  {
   "cell_type": "markdown",
   "metadata": {},
   "source": [
    "**Using strings, lists, tuples and dictionaries concepts, find the reverse complement of AAAAATCCCGAGGCGGCTATATAGGGCTCCGGAGGCGTAATATAAAA**"
   ]
  },
  {
   "cell_type": "code",
   "execution_count": 5,
   "metadata": {},
   "outputs": [],
   "source": [
    "def reverse_complement (seq:str):\n",
    "    \"\"\" This function gets the reverse complement of given DNA sequences. \"\"\"\n",
    "    complement = {'A':'T', 'C':'G', 'T':'A', 'G':'C'}\n",
    "    reverse_comp = \"\".join(complement[i] for i in seq[::-1])\n",
    "    \n",
    "    return reverse_comp"
   ]
  },
  {
   "cell_type": "markdown",
   "metadata": {},
   "source": [
    "1. **Write a function `percentageGC` that calculates the GC content of a DNA sequence**\n",
    "2. **The function should return the %GC content**\n",
    "3. **The Function should return a message if the provided sequence is not DNA (This should be checked by a different function, called by your function)**\n"
   ]
  },
  {
   "cell_type": "code",
   "execution_count": 6,
   "metadata": {},
   "outputs": [],
   "source": [
    "def percentageGC(seq):\n",
    "    \"\"\" Function calculates percentage GC content of a DNA sequence. \"\"\"\n",
    "    per_gc = ((seq.count('G') + seq.count('C'))) / len(seq)*100         \n",
    "    return (per_gc)\n",
    "\n",
    "def isValidDNA(seq):\n",
    "    \"\"\" Function checks if a DNA sequence is valid or not valid and at which position. \"\"\"\n",
    "    valid_bases = list('ACGT')\n",
    "    valid = True\n",
    "    for base in seq:\n",
    "        if base in valid_bases:\n",
    "            continue\n",
    "        else:\n",
    "            valid = False\n",
    "            print(\"Invalid base %s at position %d\" % (base, seq.find(base)))\n",
    "    return(valid)\n",
    "\n",
    "##combo of the two\n",
    "def percentageGC(seq):\n",
    "    \"\"\" This function calculates percentage GC content for a valid DNA, and outputs validation for an invalid\n",
    "        DNA sequence. \"\"\"\n",
    "    if isValidDNA(seq) == True:\n",
    "        per_gc = ((seq.count('G') + seq.count('C'))) / len(seq)*100\n",
    "        return(per_gc)\n",
    "    else:\n",
    "        print(\"Enter a valid DNA\")\n",
    "        \n",
    "    return per_gc"
   ]
  },
  {
   "cell_type": "markdown",
   "metadata": {},
   "source": [
    "**Write a function that reads the file (humchr.txt) and writes to another file (gene_names.txt) a clean list of gene names.**"
   ]
  },
  {
   "cell_type": "code",
   "execution_count": null,
   "metadata": {},
   "outputs": [],
   "source": [
    "def getGeneList():\n",
    "    \"\"\" This function reads a file extracting a column of gene ascession. \"\"\"\n",
    "    with open('../Data/humchrx.txt', 'r') as humchr:\n",
    "        tag = False\n",
    "        gene_list = []\n",
    "        for line in humchr:\n",
    "            if line.startswith('Gene'):\n",
    "                tag = True\n",
    "            if tag:\n",
    "                line_split = line.split()\n",
    "                if len(line_split) != 0:\n",
    "                    if '-' in line_split[0]:\n",
    "                        continue\n",
    "                    else:\n",
    "                        gene_list.append(line_split[0])\n",
    "    return gene_list[3:][:-2]\n",
    "\n",
    "clean_gene_list = getGeneList()\n",
    "\n",
    "def writeGeneList(clean_gene_list):\n",
    "    \"\"\" This function writes to another file, a list of cleaned genes. \"\"\"\n",
    "    with open('../Data/gene_names.txt', 'w') as gene_names:\n",
    "        for gene in clean_gene_list:\n",
    "            gene_names.writelines(gene+'\\n')\n",
    "        print('Genes have been written succesfully')\n",
    "writeGeneList(clean_gene_list)        "
   ]
  },
  {
   "cell_type": "markdown",
   "metadata": {},
   "source": [
    "**Using a DNA sequence read from file, answer the following questions:**\n",
    "\n",
    "1. **Show that the DNA string contains only four letters.**\n",
    "2. **In the DNA string there are regions that have a repeating letter. What is the letter and length of the longest repeating region?**\n",
    "3. **How many ’ATG’s are in the DNA string?**\n"
   ]
  },
  {
   "cell_type": "code",
   "execution_count": null,
   "metadata": {},
   "outputs": [],
   "source": [
    "len(set('ACGTCAGTGCAGTCAGT'))"
   ]
  },
  {
   "cell_type": "code",
   "execution_count": 1,
   "metadata": {},
   "outputs": [],
   "source": [
    "def repeat_region():\n",
    "    \"\"\" Function finds a particular base that is highly repeated and its lenght given a DNA sequence \"\"\"\n",
    "    nucs = set('ACGTCAGTGCAGTCAGT')\n",
    "    A_list = []\n",
    "    tag = False\n",
    "    As = []\n",
    "    for nuc in nucs:\n",
    "        for dna in 'ACGTCAGTGCCCCCCCCCCCCCCCCCCCCCAGTCAGTTTTTAAAAAG':\n",
    "            if dna == nuc:\n",
    "                tag = True\n",
    "                As.append(dna)\n",
    "            else:\n",
    "                if len(As) > 1:\n",
    "                    A_list.append(As)\n",
    "                As = []\n",
    "                tag = False\n",
    "\n",
    "    len_list = [len(x) for x in A_list]\n",
    "    long_index = len_list.index(max(len_list))\n",
    "    print(\"%s is the longest repeating letter, repeats %d times\" % (\n",
    "        A_list[long_index][0], len(A_list[long_index])))\n",
    "    return A_list\n",
    "\n",
    "\n",
    "\n",
    "def find_ATG(seq):\n",
    "    \"\"\" Function finds 'ATG' in a given sequence \"\"\"\n",
    "    DNA=input('DNA seq:\\n')\n",
    "    start=0\n",
    "    while DNA.find('ATG',start) !=-1:\n",
    "        found=DNA.find('ATG',start)\n",
    "        start=found+1\n",
    "        print(found)\n",
    "    return seq"
   ]
  },
  {
   "cell_type": "markdown",
   "metadata": {},
   "source": [
    "**Create a while loop that starts with x = 0 and increments x until x is equal to 5. Each iteration should print to the console.**"
   ]
  },
  {
   "cell_type": "code",
   "execution_count": null,
   "metadata": {},
   "outputs": [],
   "source": [
    "def get_0to5_whileloop(number):\n",
    "    \"\"\" Function uses a while loop to get numbers 1 to 5 given a certain figure \"\"\"\n",
    "    x = 0\n",
    "    numbers_list=[]\n",
    "    while x < 5:\n",
    "        numbers_list.append(x+1)\n",
    "        x += 1\n",
    "    return numbers_list"
   ]
  },
  {
   "cell_type": "markdown",
   "metadata": {},
   "source": [
    "**Repeat the previous problem, but the loop will skip printing x = 5 to the console but will print values of x from 6 to 10.**"
   ]
  },
  {
   "cell_type": "code",
   "execution_count": null,
   "metadata": {},
   "outputs": [],
   "source": [
    "def get_6to10whileloop(number):\n",
    "    \"\"\" Function uses a while loop to get numbers 1 to 10,\n",
    "    skipping 5 given a certain figure \"\"\"\n",
    "    x = 0\n",
    "    while x < 10:\n",
    "        x += 1\n",
    "        if x == 5:\n",
    "            continue\n",
    "        print(x)"
   ]
  },
  {
   "cell_type": "markdown",
   "metadata": {},
   "source": [
    "**Create a for loop that prints values from 4 to 10 to the console.**"
   ]
  },
  {
   "cell_type": "code",
   "execution_count": null,
   "metadata": {},
   "outputs": [],
   "source": [
    "def get_4to10_forloop(number):\n",
    "    \"\"\" Function uses a for loop to extract numbers from 4 to 10,\n",
    "    given a range of numbers using indexing \"\"\"\n",
    "    x=0\n",
    "    number = range(11)\n",
    "    for x in number:\n",
    "        if x<4:\n",
    "            continue\n",
    "        print(x)"
   ]
  },
  {
   "cell_type": "markdown",
   "metadata": {},
   "source": [
    "**Expand the bank script to also manage ATM deposits**"
   ]
  },
  {
   "cell_type": "code",
   "execution_count": null,
   "metadata": {},
   "outputs": [],
   "source": [
    "acountbal = 50000\n",
    "choice = input(\"Please enter 'b' to check balance, 'w' to withdraw or 'd' to deposit: \")\n",
    "while choice != 'q':\n",
    "    if choice.lower() in ('w','b','d'):\n",
    "        if choice.lower() == 'b':\n",
    "            print(\"Your balance is: %d\" % acountbal)\n",
    "            print(\"Anything else?\")\n",
    "            choice = input(\"Enter b for balance, w to withdraw, d to deposit or q to quit: \")\n",
    "            print(choice.lower())\n",
    "        elif choice.lower() == 'w':\n",
    "            try:\n",
    "                withdraw = float(input(\"Enter amount to withdraw: \"))\n",
    "                if withdraw <= acountbal:\n",
    "                    print(\"here is your: %.2f\" % withdraw)\n",
    "                    acountbal = acountbal - withdraw\n",
    "                    print(\"Anything else?\")\n",
    "                    choice = input(\"Enter b for balance, w to withdraw, d to deposit or q to quit: \")\n",
    "                else:\n",
    "                    print(\"You have insufficient funds: %.2f\" % acountbal)\n",
    "            except:\n",
    "                print(\"Enter amount in digits\")\n",
    "        else:\n",
    "            try:\n",
    "                deposit = int(input(\"Enter amount to deposit: \"))    \n",
    "                if deposit <= acountbal:\n",
    "                    print(\"Here is your deposited amount: %d\" % deposit)\n",
    "                    acountbal = acountbal + deposit\n",
    "                    print(\"Anything else?\")\n",
    "                    choice = input(\"Enter b for balance, w to withdraw, d to deposit or q to quit: \")\n",
    "                elif deposit > acountbal:\n",
    "                    print(\"Here is your deposited amount: %d\" % deposit)\n",
    "                    acountbal = acountbal + deposit\n",
    "                    print(\"Anything else?\")\n",
    "                    choice = input(\"Enter b for balance, w to withdraw, d to deposit or q to quit: \")\n",
    "                    #choice = 'q'\n",
    "                else:\n",
    "                    print(\"You have insufficient funds: %.2f\" % acountbal)\n",
    "            except:\n",
    "                print(\"Enter amount in digits\") \n",
    "    else:\n",
    "        print(\"Wrong choice!\")\n",
    "        choice = input(\"Please enter 'b' to check balance, 'w' to withdraw or 'd' to deposit: \")"
   ]
  }
 ],
 "metadata": {
  "kernelspec": {
   "display_name": "Python 3",
   "language": "python",
   "name": "python3"
  },
  "language_info": {
   "codemirror_mode": {
    "name": "ipython",
    "version": 3
   },
   "file_extension": ".py",
   "mimetype": "text/x-python",
   "name": "python",
   "nbconvert_exporter": "python",
   "pygments_lexer": "ipython3",
   "version": "3.7.4"
  }
 },
 "nbformat": 4,
 "nbformat_minor": 4
}
